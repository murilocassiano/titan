{
 "cells": [
  {
   "cell_type": "code",
   "execution_count": 203,
   "metadata": {},
   "outputs": [],
   "source": [
    "import os\n",
    "import requests\n",
    "import pandas as pd"
   ]
  },
  {
   "cell_type": "code",
   "execution_count": 204,
   "metadata": {},
   "outputs": [],
   "source": [
    "key = os.environ['ALPHA_KEY']"
   ]
  },
  {
   "cell_type": "code",
   "execution_count": 205,
   "metadata": {},
   "outputs": [
    {
     "name": "stdout",
     "output_type": "stream",
     "text": [
      "BOCF38WEBBSOCU3O\n"
     ]
    }
   ],
   "source": [
    "print(key)"
   ]
  },
  {
   "cell_type": "code",
   "execution_count": 206,
   "metadata": {},
   "outputs": [],
   "source": [
    "payload = {'function': 'TIME_SERIES_DAILY', 'symbol': 'AAPL', 'apikey':'key'}  "
   ]
  },
  {
   "cell_type": "code",
   "execution_count": 207,
   "metadata": {},
   "outputs": [],
   "source": [
    "pay2 = {'p':'8d','i':'86400','f':'d,o,h,l,c,v','q':'GGBR4'}"
   ]
  },
  {
   "cell_type": "code",
   "execution_count": 208,
   "metadata": {},
   "outputs": [],
   "source": [
    "r = requests.get('https://finance.google.com/finance/getprices?', params=pay2)"
   ]
  },
  {
   "cell_type": "code",
   "execution_count": 209,
   "metadata": {},
   "outputs": [],
   "source": [
    "t = r.text"
   ]
  },
  {
   "cell_type": "code",
   "execution_count": 210,
   "metadata": {},
   "outputs": [],
   "source": [
    "l = t.split('\\n')[7:-1]"
   ]
  },
  {
   "cell_type": "code",
   "execution_count": 211,
   "metadata": {},
   "outputs": [
    {
     "data": {
      "text/plain": [
       "['a1525377360,16.49,16.59,16.18,16.25,6859400',\n",
       " '1,16.84,16.93,16.35,16.48,6804200',\n",
       " '4,16.36,17,16.27,16.97,6043700',\n",
       " '5,16.33,16.56,15.99,16.36,9411500',\n",
       " '6,17.36,17.4,16.97,17.1,22453600',\n",
       " '7,17.85,18,17.41,17.46,13133900']"
      ]
     },
     "execution_count": 211,
     "metadata": {},
     "output_type": "execute_result"
    }
   ],
   "source": [
    "l"
   ]
  },
  {
   "cell_type": "code",
   "execution_count": 212,
   "metadata": {},
   "outputs": [],
   "source": [
    "r = l[0].split(',')[1:]\n",
    "r.insert(0, '0')"
   ]
  },
  {
   "cell_type": "code",
   "execution_count": 213,
   "metadata": {},
   "outputs": [],
   "source": [
    "a = [i.split(',') for i in l[1:]]\n",
    "a.insert(0, r)"
   ]
  },
  {
   "cell_type": "code",
   "execution_count": 214,
   "metadata": {},
   "outputs": [
    {
     "data": {
      "text/html": [
       "<div>\n",
       "<style scoped>\n",
       "    .dataframe tbody tr th:only-of-type {\n",
       "        vertical-align: middle;\n",
       "    }\n",
       "\n",
       "    .dataframe tbody tr th {\n",
       "        vertical-align: top;\n",
       "    }\n",
       "\n",
       "    .dataframe thead th {\n",
       "        text-align: right;\n",
       "    }\n",
       "</style>\n",
       "<table border=\"1\" class=\"dataframe\">\n",
       "  <thead>\n",
       "    <tr style=\"text-align: right;\">\n",
       "      <th></th>\n",
       "      <th>0</th>\n",
       "      <th>1</th>\n",
       "      <th>2</th>\n",
       "      <th>3</th>\n",
       "      <th>4</th>\n",
       "      <th>5</th>\n",
       "    </tr>\n",
       "  </thead>\n",
       "  <tbody>\n",
       "    <tr>\n",
       "      <th>0</th>\n",
       "      <td>0</td>\n",
       "      <td>16.49</td>\n",
       "      <td>16.59</td>\n",
       "      <td>16.18</td>\n",
       "      <td>16.25</td>\n",
       "      <td>6859400</td>\n",
       "    </tr>\n",
       "    <tr>\n",
       "      <th>1</th>\n",
       "      <td>1</td>\n",
       "      <td>16.84</td>\n",
       "      <td>16.93</td>\n",
       "      <td>16.35</td>\n",
       "      <td>16.48</td>\n",
       "      <td>6804200</td>\n",
       "    </tr>\n",
       "    <tr>\n",
       "      <th>2</th>\n",
       "      <td>4</td>\n",
       "      <td>16.36</td>\n",
       "      <td>17</td>\n",
       "      <td>16.27</td>\n",
       "      <td>16.97</td>\n",
       "      <td>6043700</td>\n",
       "    </tr>\n",
       "    <tr>\n",
       "      <th>3</th>\n",
       "      <td>5</td>\n",
       "      <td>16.33</td>\n",
       "      <td>16.56</td>\n",
       "      <td>15.99</td>\n",
       "      <td>16.36</td>\n",
       "      <td>9411500</td>\n",
       "    </tr>\n",
       "    <tr>\n",
       "      <th>4</th>\n",
       "      <td>6</td>\n",
       "      <td>17.36</td>\n",
       "      <td>17.4</td>\n",
       "      <td>16.97</td>\n",
       "      <td>17.1</td>\n",
       "      <td>22453600</td>\n",
       "    </tr>\n",
       "    <tr>\n",
       "      <th>5</th>\n",
       "      <td>7</td>\n",
       "      <td>17.85</td>\n",
       "      <td>18</td>\n",
       "      <td>17.41</td>\n",
       "      <td>17.46</td>\n",
       "      <td>13133900</td>\n",
       "    </tr>\n",
       "  </tbody>\n",
       "</table>\n",
       "</div>"
      ],
      "text/plain": [
       "   0      1      2      3      4         5\n",
       "0  0  16.49  16.59  16.18  16.25   6859400\n",
       "1  1  16.84  16.93  16.35  16.48   6804200\n",
       "2  4  16.36     17  16.27  16.97   6043700\n",
       "3  5  16.33  16.56  15.99  16.36   9411500\n",
       "4  6  17.36   17.4  16.97   17.1  22453600\n",
       "5  7  17.85     18  17.41  17.46  13133900"
      ]
     },
     "execution_count": 214,
     "metadata": {},
     "output_type": "execute_result"
    }
   ],
   "source": [
    "pd.DataFrame(a)"
   ]
  }
 ],
 "metadata": {
  "kernelspec": {
   "display_name": "Python 3",
   "language": "python",
   "name": "python3"
  },
  "language_info": {
   "codemirror_mode": {
    "name": "ipython",
    "version": 3
   },
   "file_extension": ".py",
   "mimetype": "text/x-python",
   "name": "python",
   "nbconvert_exporter": "python",
   "pygments_lexer": "ipython3",
   "version": "3.5.2"
  }
 },
 "nbformat": 4,
 "nbformat_minor": 2
}
